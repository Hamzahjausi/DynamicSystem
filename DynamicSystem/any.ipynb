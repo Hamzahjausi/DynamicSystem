{
 "cells": [
  {
   "cell_type": "code",
   "execution_count": 287,
   "metadata": {},
   "outputs": [],
   "source": [
    "from calc.jax_calc import *\n",
    "from methods.numarical_methods import * \n",
    "import matplotlib.pyplot as plt \n",
    "from jax import vmap ,jit"
   ]
  },
  {
   "cell_type": "code",
   "execution_count": 251,
   "metadata": {},
   "outputs": [],
   "source": [
    "A= jnp.array ([\n",
    "    [0,1],\n",
    "    [-1,0]\n",
    "],dtype = jnp.float64)\n",
    "ini = jnp.array ([1,0] , dtype = jnp.float64)\n"
   ]
  },
  {
   "cell_type": "code",
   "execution_count": 288,
   "metadata": {},
   "outputs": [
    {
     "ename": "NameError",
     "evalue": "name 'analytical_setup' is not defined",
     "output_type": "error",
     "traceback": [
      "\u001b[0;31m---------------------------------------------------------------------------\u001b[0m",
      "\u001b[0;31mNameError\u001b[0m                                 Traceback (most recent call last)",
      "Cell \u001b[0;32mIn[288], line 1\u001b[0m\n\u001b[0;32m----> 1\u001b[0m X,Lambda ,c \u001b[38;5;241m=\u001b[39m \u001b[43manalytical_setup\u001b[49m(A,ini)\n",
      "\u001b[0;31mNameError\u001b[0m: name 'analytical_setup' is not defined"
     ]
    }
   ],
   "source": [
    "X,Lambda ,c = analytical_setup(A,ini)"
   ]
  },
  {
   "cell_type": "code",
   "execution_count": null,
   "metadata": {},
   "outputs": [],
   "source": []
  }
 ],
 "metadata": {
  "kernelspec": {
   "display_name": "redhat_env",
   "language": "python",
   "name": "python3"
  },
  "language_info": {
   "codemirror_mode": {
    "name": "ipython",
    "version": 3
   },
   "file_extension": ".py",
   "mimetype": "text/x-python",
   "name": "python",
   "nbconvert_exporter": "python",
   "pygments_lexer": "ipython3",
   "version": "3.12.3"
  }
 },
 "nbformat": 4,
 "nbformat_minor": 2
}
