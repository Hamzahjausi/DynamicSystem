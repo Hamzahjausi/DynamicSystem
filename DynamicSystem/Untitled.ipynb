{
 "cells": [
  {
   "cell_type": "code",
   "execution_count": 1,
   "id": "cf4a7717",
   "metadata": {},
   "outputs": [],
   "source": [
    "from linear_system_solver import DynamicSystem \n",
    "import jax.numpy as jnp\n",
    "import matplotlib.pyplot as plt"
   ]
  },
  {
   "cell_type": "code",
   "execution_count": 3,
   "id": "ab17875a",
   "metadata": {},
   "outputs": [],
   "source": [
    "A = jnp.array ([[0,1],\n",
    "                [-1,0]])\n",
    "u = jnp.array ([0,1])\n",
    "t = jnp.linspace (0,20,200)\n",
    "d= DynamicSystem (A,u)\n",
    "s= d.states_over_time(t)"
   ]
  },
  {
   "cell_type": "code",
   "execution_count": 4,
   "id": "69367a46",
   "metadata": {},
   "outputs": [
    {
     "data": {
      "text/plain": [
       "Array([0.-0.70710678j, 0.+0.70710678j], dtype=complex128)"
      ]
     },
     "execution_count": 4,
     "metadata": {},
     "output_type": "execute_result"
    }
   ],
   "source": [
    "(d.c)"
   ]
  },
  {
   "cell_type": "code",
   "execution_count": null,
   "id": "0b9e1637",
   "metadata": {},
   "outputs": [],
   "source": []
  }
 ],
 "metadata": {
  "kernelspec": {
   "display_name": "Python 3 (ipykernel)",
   "language": "python",
   "name": "python3"
  },
  "language_info": {
   "codemirror_mode": {
    "name": "ipython",
    "version": 3
   },
   "file_extension": ".py",
   "mimetype": "text/x-python",
   "name": "python",
   "nbconvert_exporter": "python",
   "pygments_lexer": "ipython3",
   "version": "3.12.1"
  }
 },
 "nbformat": 4,
 "nbformat_minor": 5
}
